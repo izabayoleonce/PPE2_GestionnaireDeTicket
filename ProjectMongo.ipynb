{
  "cells": [
    {
      "cell_type": "markdown",
      "metadata": {
        "id": "view-in-github",
        "colab_type": "text"
      },
      "source": [
        "<a href=\"https://colab.research.google.com/github/izabayoleonce/PPE2_GestionnaireDeTicket/blob/master/ProjectMongo.ipynb\" target=\"_parent\"><img src=\"https://colab.research.google.com/assets/colab-badge.svg\" alt=\"Open In Colab\"/></a>"
      ]
    },
    {
      "cell_type": "code",
      "execution_count": null,
      "id": "f5366da3-776a-4b90-9471-f7dba8208678",
      "metadata": {
        "id": "f5366da3-776a-4b90-9471-f7dba8208678",
        "outputId": "c154ef20-988f-4e5a-e290-e058a2dde513"
      },
      "outputs": [
        {
          "name": "stdout",
          "output_type": "stream",
          "text": [
            "Requirement already satisfied: pymongo in c:\\users\\rhema\\anaconda3\\lib\\site-packages (4.6.3)\n",
            "Requirement already satisfied: dnspython<3.0.0,>=1.16.0 in c:\\users\\rhema\\anaconda3\\lib\\site-packages (from pymongo) (2.6.1)\n"
          ]
        }
      ],
      "source": [
        "!pip install pymongo"
      ]
    },
    {
      "cell_type": "code",
      "execution_count": null,
      "id": "0ffb5976-4279-451f-b009-d1b8f6234838",
      "metadata": {
        "id": "0ffb5976-4279-451f-b009-d1b8f6234838"
      },
      "outputs": [],
      "source": [
        "from pymongo import MongoClient\n",
        "import json"
      ]
    },
    {
      "cell_type": "code",
      "execution_count": null,
      "id": "f8b1ea8c-adcc-45e0-b3bc-f09ce0226468",
      "metadata": {
        "id": "f8b1ea8c-adcc-45e0-b3bc-f09ce0226468"
      },
      "outputs": [],
      "source": [
        "client = MongoClient(\"mongodb://localhost:27017/\")\n",
        "db = client[\"IFC_Fighter\"]\n",
        "collection1 = db[\"Combattants\"]\n",
        "collection2 = db[\"basketteur\"]"
      ]
    },
    {
      "cell_type": "code",
      "execution_count": null,
      "id": "4ed0d7ad-c04b-4cfa-bd8f-6bedadf838df",
      "metadata": {
        "scrolled": true,
        "id": "4ed0d7ad-c04b-4cfa-bd8f-6bedadf838df",
        "outputId": "3c1ffad6-35fc-4d03-8586-a970d25a81f2"
      },
      "outputs": [
        {
          "name": "stdout",
          "output_type": "stream",
          "text": [
            "{'_id': ObjectId('65f30eb0f96034c204481238'), 'nom': 'NGANOU', 'prénom': 'Francis', 'surnom': 'The Hammer', 'age': 37.0, 'nationalité': 'Camérounais'}\n",
            "{'_id': ObjectId('66056a53d1bac697be6558c1'), 'nom': 'Durant', 'prénom': 'Kevin', 'surnom': 'Molaï', 'age': 35, 'nationalité': 'USA'}\n",
            "{'_id': ObjectId('66056ad1d1bac697be6558c2'), 'nom': 'Irving', 'prénom': 'Kyrie', 'surnom': 'Molaï', 'age': 30, 'nationalité': 'USA'}\n",
            "{'_id': ObjectId('6609a18c6175cb809b0594d2'), 'nom': 'JUAN', 'prenom': 'ADAMS', 'age': 31, 'surnom': 'Heavy punch', 'nationalité': 'Français'}\n",
            "{'_id': ObjectId('6609a1e26175cb809b0594d3'), 'nom': 'EDWARDS', 'prenom': 'LEON', 'age': 32, 'surnom': 'ROCKY', 'nationalité': 'Jamaïque'}\n"
          ]
        }
      ],
      "source": [
        "all_document = collection1.find()\n",
        "for all_doc in all_document:\n",
        "    print(all_doc)"
      ]
    },
    {
      "cell_type": "code",
      "execution_count": null,
      "id": "bf8de6e8-e0f2-42f6-8544-bbe6b2d0d042",
      "metadata": {
        "id": "bf8de6e8-e0f2-42f6-8544-bbe6b2d0d042"
      },
      "outputs": [],
      "source": [
        "all_document2 = collection2.find()\n",
        "for all_docu in all_document2:\n",
        "    print(all_docu)"
      ]
    },
    {
      "cell_type": "code",
      "execution_count": null,
      "id": "c20193aa-116d-444c-9fc2-402b1b419251",
      "metadata": {
        "id": "c20193aa-116d-444c-9fc2-402b1b419251",
        "outputId": "3d9888d1-951b-48fa-852d-fadf12ba2119"
      },
      "outputs": [
        {
          "name": "stdout",
          "output_type": "stream",
          "text": [
            "{'_id': ObjectId('66056a53d1bac697be6558c1'), 'nom': 'Durant', 'prénom': 'Kevin', 'surnom': 'Molaï', 'age': 35, 'nationalité': 'USA'}\n",
            "{'_id': ObjectId('6609a1e26175cb809b0594d3'), 'nom': 'EDWARDS', 'prenom': 'LEON', 'age': 32, 'surnom': 'ROCKY', 'nationalité': 'Jamaïque'}\n",
            "{'_id': ObjectId('66056ad1d1bac697be6558c2'), 'nom': 'Irving', 'prénom': 'Kyrie', 'surnom': 'Molaï', 'age': 30, 'nationalité': 'USA'}\n",
            "{'_id': ObjectId('6609a18c6175cb809b0594d2'), 'nom': 'JUAN', 'prenom': 'ADAMS', 'age': 31, 'surnom': 'Heavy punch', 'nationalité': 'Français'}\n",
            "{'_id': ObjectId('65f30eb0f96034c204481238'), 'nom': 'NGANOU', 'prénom': 'Francis', 'surnom': 'The Hammer', 'age': 37.0, 'nationalité': 'Camérounais'}\n"
          ]
        }
      ],
      "source": [
        "trie1 = collection1.find().sort('nom', 1)\n",
        "for trie in trie1:\n",
        "    print(trie)"
      ]
    },
    {
      "cell_type": "code",
      "execution_count": null,
      "id": "17d6d277-6686-4e9d-ab1e-0dc6892e84b2",
      "metadata": {
        "id": "17d6d277-6686-4e9d-ab1e-0dc6892e84b2",
        "outputId": "3f128ea2-f049-4286-b7d2-8b76e502939d"
      },
      "outputs": [
        {
          "name": "stdout",
          "output_type": "stream",
          "text": [
            "{'_id': ObjectId('65f30eb0f96034c204481238'), 'nom': 'NGANOU', 'prénom': 'Francis', 'surnom': 'The Hammer', 'age': 37.0, 'nationalité': 'Camérounais'}\n",
            "{'_id': ObjectId('66056a53d1bac697be6558c1'), 'nom': 'Durant', 'prénom': 'Kevin', 'surnom': 'Molaï', 'age': 35, 'nationalité': 'USA'}\n",
            "{'_id': ObjectId('6609a18c6175cb809b0594d2'), 'nom': 'JUAN', 'prenom': 'ADAMS', 'age': 31, 'surnom': 'Heavy punch', 'nationalité': 'Français'}\n",
            "{'_id': ObjectId('6609a1e26175cb809b0594d3'), 'nom': 'EDWARDS', 'prenom': 'LEON', 'age': 32, 'surnom': 'ROCKY', 'nationalité': 'Jamaïque'}\n"
          ]
        }
      ],
      "source": [
        "filtreA = {'age': {'$gt': 30}}\n",
        "resultatF = collection1.find(filtreA)\n",
        "for showF in resultatF:\n",
        "    print(showF)"
      ]
    },
    {
      "cell_type": "code",
      "execution_count": null,
      "id": "075fddda-7f29-47e2-afae-51aefd37a70f",
      "metadata": {
        "id": "075fddda-7f29-47e2-afae-51aefd37a70f"
      },
      "outputs": [],
      "source": [
        "filtreN = {'nationalité ': 'USA'}\n",
        "resultatFi = collection1.find(filtreN)\n",
        "for showF in resultatF:\n",
        "    print(showFi)"
      ]
    },
    {
      "cell_type": "code",
      "execution_count": null,
      "id": "84aa97fc-51cd-4654-a4c2-5f8bbef61c0f",
      "metadata": {
        "id": "84aa97fc-51cd-4654-a4c2-5f8bbef61c0f",
        "outputId": "33b091af-088f-4ac7-cea5-587cdfebc41a"
      },
      "outputs": [
        {
          "name": "stdout",
          "output_type": "stream",
          "text": [
            "{'_id': ObjectId('66056a53d1bac697be6558c1'), 'nom': 'Durant', 'prénom': 'Kevin', 'surnom': 'Molaï', 'age': 35, 'nationalité': 'USA'}\n",
            "{'_id': ObjectId('66056ad1d1bac697be6558c2'), 'nom': 'Irving', 'prénom': 'Kyrie', 'surnom': 'Molaï', 'age': 30, 'nationalité': 'USA'}\n",
            "{'_id': ObjectId('6609a18c6175cb809b0594d2'), 'nom': 'JUAN', 'prenom': 'ADAMS', 'age': 31, 'surnom': 'Heavy punch', 'nationalité': 'Français'}\n",
            "{'_id': ObjectId('6609a1e26175cb809b0594d3'), 'nom': 'EDWARDS', 'prenom': 'LEON', 'age': 32, 'surnom': 'ROCKY', 'nationalité': 'Jamaïque'}\n"
          ]
        }
      ],
      "source": [
        "filtreAf = {'age':{'$lte': 35}}\n",
        "resultatFil = collection1.find(filtreAf)\n",
        "for ResF in resultatFil:\n",
        "    print(ResF)"
      ]
    },
    {
      "cell_type": "code",
      "execution_count": null,
      "id": "581d7b29-09f9-4cd8-8477-e36de350e441",
      "metadata": {
        "id": "581d7b29-09f9-4cd8-8477-e36de350e441",
        "outputId": "ee5fbeda-85cb-4611-9f32-66fb3e6fa861"
      },
      "outputs": [
        {
          "name": "stdout",
          "output_type": "stream",
          "text": [
            "{'_id': {'nom': 'NGANOU', 'age': 37.0}}\n",
            "{'_id': {'nom': 'JUAN', 'age': 31}}\n",
            "{'_id': {'nom': 'Irving', 'age': 30}}\n",
            "{'_id': {'nom': 'EDWARDS', 'age': 32}}\n",
            "{'_id': {'nom': 'Durant', 'age': 35}}\n"
          ]
        }
      ],
      "source": [
        "pipeline = [\n",
        "    {\"$project\": {\"nom\": 1, \"age\": 1}},\n",
        "    {\"$group\": {\"_id\":{\"nom\": \"$nom\", \"age\": \"$age\"}}},\n",
        "    {\"$sort\": {\"_id\": -1}}\n",
        "]\n",
        "agg = list(collection1.aggregate(pipeline))\n",
        "for resultat in agg:\n",
        "    print(resultat)"
      ]
    },
    {
      "cell_type": "code",
      "execution_count": null,
      "id": "e3cd4a1d-b649-43f6-9777-cc69f1e5972d",
      "metadata": {
        "id": "e3cd4a1d-b649-43f6-9777-cc69f1e5972d",
        "outputId": "447fce3e-eea5-4097-d6de-5c99cb95f282"
      },
      "outputs": [
        {
          "data": {
            "text/plain": [
              "InsertManyResult([ObjectId('6609e7c3666dd759e515c964'), ObjectId('6609e7c3666dd759e515c965')], acknowledged=True)"
            ]
          },
          "execution_count": 34,
          "metadata": {},
          "output_type": "execute_result"
        }
      ],
      "source": [
        "Ins1 = db.Combattants\n",
        "Ins2 = db.basketteur\n",
        "doc_col1 = [\n",
        "    {\"nom\": \"John\",\"prenom\":\"Travis\",\"surnom\":\"The scott\", \"age\": 30,\"nationalité\":\"USA\"},\n",
        "    {\"nom\": \"Alice\",\"prenom\":\"Borderland\",\"surnom\":\"LA Duper\", \"age\": -36,\"nationalité\":\"Bordeland\"}\n",
        "]\n",
        "Ins1.insert_many(doc_col1)\n",
        "Ins2.insert_many(doc_col1)\n",
        "db.list_collection_names()"
      ]
    },
    {
      "cell_type": "code",
      "execution_count": null,
      "id": "79e53ecd-5169-4480-b65d-975b17cedc80",
      "metadata": {
        "id": "79e53ecd-5169-4480-b65d-975b17cedc80"
      },
      "outputs": [],
      "source": [
        "MAJ = {\"competence\": [\"Boxe\", \"polyvalent\", \"Lutte\", \"Mahine a ko\"]}\n",
        "for collection_name in db.list_collection_names():\n",
        "    db[collection_name].update_many({}, {\"$set\": MAJ})"
      ]
    },
    {
      "cell_type": "code",
      "execution_count": null,
      "id": "9dbbe762-044f-42b9-89d4-cc0d470e15fa",
      "metadata": {
        "id": "9dbbe762-044f-42b9-89d4-cc0d470e15fa"
      },
      "outputs": [],
      "source": [
        "Dell = \"surnom\"\n",
        "for collections in db.list_collection_names():\n",
        "    db[collections].update_many({}, {\"$unset\": {Dell: \"\"}})"
      ]
    },
    {
      "cell_type": "code",
      "execution_count": null,
      "id": "3d997ae1-8614-4596-85fe-5560a3895fbd",
      "metadata": {
        "id": "3d997ae1-8614-4596-85fe-5560a3895fbd"
      },
      "outputs": [],
      "source": [
        "for tous in db.list_collection_names():\n",
        "    documentations = list(db[tous].find())\n",
        "    with open(f\"{tous}.json\", \"w\") as json_file:\n",
        "        json.dump(documentations, json_file, default=str, indent=4)"
      ]
    }
  ],
  "metadata": {
    "kernelspec": {
      "display_name": "Python 3 (ipykernel)",
      "language": "python",
      "name": "python3"
    },
    "language_info": {
      "codemirror_mode": {
        "name": "ipython",
        "version": 3
      },
      "file_extension": ".py",
      "mimetype": "text/x-python",
      "name": "python",
      "nbconvert_exporter": "python",
      "pygments_lexer": "ipython3",
      "version": "3.11.7"
    },
    "colab": {
      "provenance": [],
      "include_colab_link": true
    }
  },
  "nbformat": 4,
  "nbformat_minor": 5
}